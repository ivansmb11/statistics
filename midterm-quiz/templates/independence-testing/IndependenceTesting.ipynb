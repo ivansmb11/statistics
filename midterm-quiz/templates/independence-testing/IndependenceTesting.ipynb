{
 "cells": [
  {
   "cell_type": "markdown",
   "metadata": {},
   "source": [
    "# Independence Testing (chi square)"
   ]
  }
 ],
 "metadata": {
  "interpreter": {
   "hash": "d998e9f2d5d1a02bcaee89c1920b4684991490c4c804a88a19c1fbc74ca5ffba"
  },
  "kernelspec": {
   "display_name": "Python 3.9.7 ('statistics')",
   "language": "python",
   "name": "python3"
  },
  "language_info": {
   "name": "python",
   "version": "3.9.7"
  },
  "orig_nbformat": 4
 },
 "nbformat": 4,
 "nbformat_minor": 2
}
