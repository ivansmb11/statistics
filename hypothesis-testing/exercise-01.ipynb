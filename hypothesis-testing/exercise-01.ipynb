{
 "cells": [
  {
   "cell_type": "markdown",
   "id": "fa701b18",
   "metadata": {},
   "source": [
    "## Hyphotesis test"
   ]
  },
  {
   "cell_type": "markdown",
   "id": "53fb8e01",
   "metadata": {},
   "source": [
    "### Exercise 1"
   ]
  },
  {
   "cell_type": "markdown",
   "id": "c68decad",
   "metadata": {},
   "source": [
    "1. Una empresa que se dedica a hacer encuestas se queja de que un agente realiza en promedio 53 encuestas por semana. Se ha introducido una forma más moderna de realizar las encuestas y la empresa quiere evaluar su efectividad. Los números de encuestas realizadas en una semana por una muestra aleatoria de agentes son: 53 57 54 52 50 50 61 53 54 58 52 53 50 55 58 58 50 56 51 51 50 52 53 54 51 60 52 54 53 52 50 54 60 52 59 62 60 60 51 59 56. En el nivel de significancia del 0.05, ¿puede concluirse que la cantidad media de entrevistas realizadas por los agentes es superior a 53 por semana?"
   ]
  },
  {
   "cell_type": "code",
   "execution_count": 12,
   "id": "0411101c",
   "metadata": {},
   "outputs": [],
   "source": [
    "import math"
   ]
  },
  {
   "cell_type": "markdown",
   "id": "d7f583fb",
   "metadata": {},
   "source": [
    "#### 1. Define the null and alternate hypotheses"
   ]
  },
  {
   "cell_type": "markdown",
   "id": "5a094a8e",
   "metadata": {},
   "source": [
    "H<sub>0</sub>: µ ≤ 53  \n",
    "H<sub>1</sub>: µ > 53"
   ]
  },
  {
   "cell_type": "markdown",
   "id": "8248f118",
   "metadata": {},
   "source": [
    "#### 2. Define the level of confidence and significance"
   ]
  },
  {
   "cell_type": "markdown",
   "id": "c434d05a",
   "metadata": {},
   "source": [
    "1 - α = 95%  \n",
    "α = 5%"
   ]
  },
  {
   "cell_type": "markdown",
   "id": "36c14f15",
   "metadata": {},
   "source": [
    "#### 3. Select the test statistic"
   ]
  },
  {
   "cell_type": "markdown",
   "id": "e8a2ebd9",
   "metadata": {},
   "source": [
    "$$Z = \\frac{\\overline{x}-µ}{\\frac{s}{ \\sqrt{n}}}$$"
   ]
  },
  {
   "cell_type": "markdown",
   "id": "25ed0740",
   "metadata": {},
   "source": [
    "_Where:_  \n",
    "${ Z }$ = test statistic  \n",
    "$\\overline{x}$ = sample average  \n",
    "${µ}$ = average  \n",
    "${s}$ = sample standard deviation  \n",
    "${n}$ = sample size"
   ]
  },
  {
   "cell_type": "markdown",
   "id": "8b4d3c77",
   "metadata": {},
   "source": [
    "#### 4. Calculate the test statistic"
   ]
  },
  {
   "cell_type": "markdown",
   "id": "8a7870bd",
   "metadata": {},
   "source": [
    "Calculate $\\overline{x}$"
   ]
  },
  {
   "cell_type": "code",
   "execution_count": 1,
   "id": "02ed635b",
   "metadata": {},
   "outputs": [],
   "source": [
    "data = [53, 57, 54, 52, 50, 50, 61, 53, 54, 58, 52, 53, 50, 55, 58, 58, 50, 56, 51, 51, 50, 52, 53, 54, 51, 60, 52, 54, 53, 52, 50, 54, 60, 52, 59, 62, 60, 60, 51, 59, 56]"
   ]
  },
  {
   "cell_type": "code",
   "execution_count": 3,
   "id": "ec85c6fa",
   "metadata": {},
   "outputs": [
    {
     "data": {
      "text/plain": [
       "54.390243902439025"
      ]
     },
     "execution_count": 3,
     "metadata": {},
     "output_type": "execute_result"
    }
   ],
   "source": [
    "avg = sum(data) / len(data)\n",
    "avg"
   ]
  },
  {
   "cell_type": "markdown",
   "id": "769a0f5e",
   "metadata": {},
   "source": [
    "$\\overline{x}$ = 54.39"
   ]
  },
  {
   "cell_type": "markdown",
   "id": "4ae1dd5a",
   "metadata": {},
   "source": [
    "${µ}$ = 53"
   ]
  },
  {
   "cell_type": "markdown",
   "id": "00f6801e",
   "metadata": {},
   "source": [
    "Calculate ${s}$"
   ]
  },
  {
   "cell_type": "markdown",
   "id": "c1fed20a",
   "metadata": {},
   "source": [
    "$$s = \\sqrt{ \\frac{\\Sigma|x-µ|^{2}}{N} } $$"
   ]
  },
  {
   "cell_type": "code",
   "execution_count": 7,
   "id": "4543ceb3",
   "metadata": {},
   "outputs": [
    {
     "data": {
      "text/plain": [
       "527.7560975609755"
      ]
     },
     "execution_count": 7,
     "metadata": {},
     "output_type": "execute_result"
    }
   ],
   "source": [
    "avgDistance = []\n",
    "for i in data:\n",
    "  avgDistance.append(abs(i-avg)**2)\n",
    "sum(avgDistance)"
   ]
  },
  {
   "cell_type": "markdown",
   "id": "d7f18ecf",
   "metadata": {},
   "source": [
    "$ \\Sigma|x-µ|^{2} $ = 527.756"
   ]
  },
  {
   "cell_type": "code",
   "execution_count": 8,
   "id": "737f2d47",
   "metadata": {},
   "outputs": [
    {
     "data": {
      "text/plain": [
       "41"
      ]
     },
     "execution_count": 8,
     "metadata": {},
     "output_type": "execute_result"
    }
   ],
   "source": [
    "len(data)"
   ]
  },
  {
   "cell_type": "markdown",
   "id": "2cf25265",
   "metadata": {},
   "source": [
    "${N}$ = 41"
   ]
  },
  {
   "cell_type": "markdown",
   "id": "1529fb58",
   "metadata": {},
   "source": [
    "$$ s = \\sqrt{ \\frac{527.756}{41} } $$"
   ]
  },
  {
   "cell_type": "code",
   "execution_count": 11,
   "id": "2aa360b3",
   "metadata": {},
   "outputs": [
    {
     "data": {
      "text/plain": [
       "3.587770555787481"
      ]
     },
     "execution_count": 11,
     "metadata": {},
     "output_type": "execute_result"
    }
   ],
   "source": [
    "s = math.sqrt(527.756/41)\n",
    "s"
   ]
  },
  {
   "cell_type": "markdown",
   "id": "40a39848",
   "metadata": {},
   "source": [
    "${ s }$ = 3.587"
   ]
  },
  {
   "cell_type": "markdown",
   "id": "bb3f181b",
   "metadata": {},
   "source": [
    "${ n }$ = 41"
   ]
  },
  {
   "cell_type": "markdown",
   "id": "b29fa67b",
   "metadata": {},
   "source": [
    "Calculate ${ Z }$"
   ]
  },
  {
   "cell_type": "markdown",
   "id": "0e51686c",
   "metadata": {},
   "source": [
    "$$Z = \\frac{54.39-53}{\\frac{3.587}{ \\sqrt{41}}}$$"
   ]
  },
  {
   "cell_type": "code",
   "execution_count": 13,
   "id": "5c79e851",
   "metadata": {},
   "outputs": [
    {
     "data": {
      "text/plain": [
       "2.4811799665646865"
      ]
     },
     "execution_count": 13,
     "metadata": {},
     "output_type": "execute_result"
    }
   ],
   "source": [
    "Z = (avg-53)/(s/math.sqrt(len(data)))\n",
    "Z"
   ]
  },
  {
   "cell_type": "markdown",
   "id": "e0ac3b75",
   "metadata": {},
   "source": [
    "#### 5. Set decision rule"
   ]
  },
  {
   "cell_type": "markdown",
   "id": "503b62e2",
   "metadata": {},
   "source": [
    "#### 6. Draw conclusions"
   ]
  }
 ],
 "metadata": {
  "kernelspec": {
   "display_name": "Python 3 (ipykernel)",
   "language": "python",
   "name": "python3"
  },
  "language_info": {
   "codemirror_mode": {
    "name": "ipython",
    "version": 3
   },
   "file_extension": ".py",
   "mimetype": "text/x-python",
   "name": "python",
   "nbconvert_exporter": "python",
   "pygments_lexer": "ipython3",
   "version": "3.9.7"
  }
 },
 "nbformat": 4,
 "nbformat_minor": 5
}
