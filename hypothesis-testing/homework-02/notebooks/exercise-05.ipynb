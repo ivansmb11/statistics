{
 "cells": [
  {
   "cell_type": "markdown",
   "id": "fa701b18",
   "metadata": {},
   "source": [
    "# Hyphotesis test"
   ]
  },
  {
   "cell_type": "markdown",
   "id": "53fb8e01",
   "metadata": {},
   "source": [
    "## Exercise 5"
   ]
  },
  {
   "cell_type": "markdown",
   "id": "c68decad",
   "metadata": {},
   "source": [
    "5. El propietario de un automóvil sospecha que su vehículo tiene un consumo medio de combustible en carretera superior a los 5.6 litros sobre 100 km, que es lo que el fabricante indica en su publicidad. Para apoyar empíricamente su sospecha, observa el consumo medio en varios viajes seleccionados aleatoriamente entre todos los que realiza al año, obteniendo los siguientes resultados: 6.1, 6.5, 6.2, 5.1, 5.5, 5.7, 6, 5.8, 6.2, 6.3, 6, 5.9, 5.9, 6.2, 6.3, 6.3, 5.8, 5.9, 5.8, 5.7, 5.9, 6.1, 6.2, 6.3, 6, 5.7, 5.8, 5.8, 5.9, 6.1, 6.2, 6.2, 6.3, 6, 5.8"
   ]
  },
  {
   "cell_type": "code",
   "execution_count": 60,
   "id": "0411101c",
   "metadata": {},
   "outputs": [],
   "source": [
    "import math\n",
    "import matplotlib.pyplot as plt\n",
    "import numpy as np\n",
    "import scipy.stats as stats"
   ]
  },
  {
   "cell_type": "markdown",
   "id": "d7f583fb",
   "metadata": {},
   "source": [
    "### 1. Define the null and alternate hypotheses"
   ]
  },
  {
   "cell_type": "markdown",
   "id": "5a094a8e",
   "metadata": {},
   "source": [
    "H<sub>0</sub>: µ ≤ 5.6  \n",
    "H<sub>1</sub>: µ > 5.6"
   ]
  },
  {
   "cell_type": "markdown",
   "id": "8248f118",
   "metadata": {},
   "source": [
    "### 2. Define the level of confidence and significance"
   ]
  },
  {
   "cell_type": "markdown",
   "id": "c434d05a",
   "metadata": {},
   "source": [
    "1 - α = 99%  \n",
    "α = 1%"
   ]
  },
  {
   "cell_type": "markdown",
   "id": "36c14f15",
   "metadata": {},
   "source": [
    "### 3. Select the test statistic"
   ]
  },
  {
   "cell_type": "markdown",
   "id": "e8a2ebd9",
   "metadata": {},
   "source": [
    "$$Z = \\frac{\\overline{x}-µ}{\\frac{s}{ \\sqrt{n}}}$$"
   ]
  },
  {
   "cell_type": "markdown",
   "id": "25ed0740",
   "metadata": {},
   "source": [
    "_Where:_  \n",
    "${ Z }$ = test statistic  \n",
    "$\\overline{x}$ = sample average  \n",
    "${µ}$ = average  \n",
    "${s}$ = sample standard deviation  \n",
    "${n}$ = sample size"
   ]
  },
  {
   "cell_type": "markdown",
   "id": "8b4d3c77",
   "metadata": {},
   "source": [
    "### 4. Calculate the test statistic"
   ]
  },
  {
   "cell_type": "markdown",
   "id": "8a7870bd",
   "metadata": {},
   "source": [
    "#### Calculate $\\overline{x}$"
   ]
  },
  {
   "cell_type": "code",
   "execution_count": 72,
   "id": "02ed635b",
   "metadata": {},
   "outputs": [],
   "source": [
    "data = [6.1, 6.5, 6.2, 5.1, 5.5, 5.7, 6, 5.8, 6.2, 6.3, 6, 5.9, 5.9, 6.2, 6.3, 6.3, 5.8, 5.9, 5.8, 5.7, 5.9, 6.1, 6.2, 6.3, 6, 5.7, 5.8, 5.8, 5.9, 6.1, 6.2, 6.2, 6.3, 6, 5.8]"
   ]
  },
  {
   "cell_type": "code",
   "execution_count": 73,
   "id": "ec85c6fa",
   "metadata": {},
   "outputs": [
    {
     "data": {
      "text/plain": [
       "5.985714285714287"
      ]
     },
     "execution_count": 73,
     "metadata": {},
     "output_type": "execute_result"
    }
   ],
   "source": [
    "x = sum(data) / len(data)\n",
    "x"
   ]
  },
  {
   "cell_type": "markdown",
   "id": "769a0f5e",
   "metadata": {},
   "source": [
    "$\\overline{x}$ = 5.99"
   ]
  },
  {
   "cell_type": "markdown",
   "id": "9d0dc63a",
   "metadata": {},
   "source": [
    "#### Calculate ${µ}$"
   ]
  },
  {
   "cell_type": "code",
   "execution_count": 74,
   "id": "35268c35",
   "metadata": {},
   "outputs": [
    {
     "data": {
      "text/plain": [
       "5.6"
      ]
     },
     "execution_count": 74,
     "metadata": {},
     "output_type": "execute_result"
    }
   ],
   "source": [
    "mu = 5.6\n",
    "mu"
   ]
  },
  {
   "cell_type": "markdown",
   "id": "4ae1dd5a",
   "metadata": {},
   "source": [
    "${µ}$ = 5.6"
   ]
  },
  {
   "cell_type": "markdown",
   "id": "00f6801e",
   "metadata": {},
   "source": [
    "#### Calculate ${s}$"
   ]
  },
  {
   "cell_type": "markdown",
   "id": "c1fed20a",
   "metadata": {},
   "source": [
    "$$s = \\sqrt{ \\frac{\\Sigma|x-µ|^{2}}{N} } $$"
   ]
  },
  {
   "cell_type": "code",
   "execution_count": 75,
   "id": "4543ceb3",
   "metadata": {},
   "outputs": [
    {
     "data": {
      "text/plain": [
       "7.790000000000008"
      ]
     },
     "execution_count": 75,
     "metadata": {},
     "output_type": "execute_result"
    }
   ],
   "source": [
    "avgDistance = []\n",
    "for i in data:\n",
    "  avgDistance.append(abs(i-mu)**2)\n",
    "sum(avgDistance)"
   ]
  },
  {
   "cell_type": "markdown",
   "id": "d7f18ecf",
   "metadata": {},
   "source": [
    "$ \\Sigma|x-µ|^{2} $ = 7.79"
   ]
  },
  {
   "cell_type": "code",
   "execution_count": 76,
   "id": "8019e74b",
   "metadata": {},
   "outputs": [
    {
     "data": {
      "text/plain": [
       "35"
      ]
     },
     "execution_count": 76,
     "metadata": {},
     "output_type": "execute_result"
    }
   ],
   "source": [
    "n = len(data)\n",
    "n"
   ]
  },
  {
   "cell_type": "markdown",
   "id": "a9fd9588",
   "metadata": {},
   "source": [
    "${N}$ = 35"
   ]
  },
  {
   "cell_type": "markdown",
   "id": "1529fb58",
   "metadata": {},
   "source": [
    "$$ s = \\sqrt{ \\frac{7.79}{35} } $$"
   ]
  },
  {
   "cell_type": "code",
   "execution_count": 78,
   "id": "2aa360b3",
   "metadata": {},
   "outputs": [
    {
     "data": {
      "text/plain": [
       "0.471774764661516"
      ]
     },
     "execution_count": 78,
     "metadata": {},
     "output_type": "execute_result"
    }
   ],
   "source": [
    "s = math.sqrt(sum(avgDistance)/n)\n",
    "s"
   ]
  },
  {
   "cell_type": "markdown",
   "id": "40a39848",
   "metadata": {},
   "source": [
    "${ s }$ = 0.47"
   ]
  },
  {
   "cell_type": "markdown",
   "id": "2546c7f1",
   "metadata": {},
   "source": [
    "#### Calculate ${n}$"
   ]
  },
  {
   "cell_type": "code",
   "execution_count": 67,
   "id": "caa8f010",
   "metadata": {},
   "outputs": [
    {
     "data": {
      "text/plain": [
       "35"
      ]
     },
     "execution_count": 67,
     "metadata": {},
     "output_type": "execute_result"
    }
   ],
   "source": [
    "n"
   ]
  },
  {
   "cell_type": "markdown",
   "id": "bb3f181b",
   "metadata": {},
   "source": [
    "${ n }$ = 35"
   ]
  },
  {
   "cell_type": "markdown",
   "id": "b29fa67b",
   "metadata": {},
   "source": [
    "#### Calculate ${ Z }$"
   ]
  },
  {
   "cell_type": "markdown",
   "id": "0e51686c",
   "metadata": {},
   "source": [
    "$$Z = \\frac{5.99-5.6}{\\frac{0.47}{ \\sqrt{35}}}$$"
   ]
  },
  {
   "cell_type": "code",
   "execution_count": 80,
   "id": "5c79e851",
   "metadata": {},
   "outputs": [
    {
     "data": {
      "text/plain": [
       "4.836876956325139"
      ]
     },
     "execution_count": 80,
     "metadata": {},
     "output_type": "execute_result"
    }
   ],
   "source": [
    "Zc = (x-mu)/(s/math.sqrt(n))\n",
    "Zc"
   ]
  },
  {
   "cell_type": "markdown",
   "id": "5d5af902",
   "metadata": {},
   "source": [
    "${Z}$ = 4.84"
   ]
  },
  {
   "cell_type": "markdown",
   "id": "e0ac3b75",
   "metadata": {},
   "source": [
    "### 5. Set decision rule"
   ]
  },
  {
   "cell_type": "markdown",
   "id": "fafe64cc",
   "metadata": {},
   "source": [
    "| Confidence | Significance | Left  | Right | Bilateral    |\n",
    "| ---------- | ------------ | ----  | ----- | ------------ |\n",
    "| 90%        | 10%          | -1.28 | 1.28  | ${\\pm}$ 1.64 |\n",
    "| 95%        | 5%           | -1.64 | 1.64  | ${\\pm}$ 1.96 |\n",
    "| 99%        | 1%           | -2.33 | 2.33  | ${\\pm}$ 2.58 |"
   ]
  },
  {
   "cell_type": "markdown",
   "id": "0611bab1",
   "metadata": {},
   "source": [
    "Z<sub>c</sub> = 4.84  \n",
    "Z<sub>0.01</sub> = 2.33"
   ]
  },
  {
   "cell_type": "code",
   "execution_count": 69,
   "id": "f217dd03",
   "metadata": {},
   "outputs": [],
   "source": [
    "Z = 2.33"
   ]
  },
  {
   "cell_type": "code",
   "execution_count": 82,
   "id": "36026040",
   "metadata": {},
   "outputs": [
    {
     "data": {
      "image/png": "[encoded data removed]",
      "text/plain": [
       "<Figure size 432x288 with 1 Axes>"
      ]
     },
     "metadata": {
      "needs_background": "light"
     },
     "output_type": "display_data"
    }
   ],
   "source": [
    "mu = 0\n",
    "variance = 1\n",
    "sigma = math.sqrt(variance)\n",
    "x = np.linspace(mu - 3*sigma, mu + 3*sigma, 100)\n",
    "plt.axvline(x=Zc, color=\"blue\")\n",
    "plt.axvline(x=Z, color=\"red\")\n",
    "plt.axvline(x=mu, color=\"green\")\n",
    "plt.legend([\"Zc\", \"Z0.05\", \"µ\"])\n",
    "plt.plot(x, stats.norm.pdf(x, mu, sigma))\n",
    "plt.show()"
   ]
  },
  {
   "cell_type": "markdown",
   "id": "0b8bfeec",
   "metadata": {},
   "source": [
    "#### H<sub>0</sub> is rejected\n",
    "#### H<sub>1</sub> is accepted"
   ]
  },
  {
   "cell_type": "markdown",
   "id": "503b62e2",
   "metadata": {},
   "source": [
    "### 6. Draw conclusions"
   ]
  },
  {
   "cell_type": "markdown",
   "id": "47bdb84a",
   "metadata": {},
   "source": [
    "Con un 99% de confianza se puede concluir que el consumo medio de combustible en carretera es superior a los 5.6 litros sobre 100 km"
   ]
  }
 ],
 "metadata": {
  "kernelspec": {
   "display_name": "Python 3 (ipykernel)",
   "language": "python",
   "name": "python3"
  },
  "language_info": {
   "codemirror_mode": {
    "name": "ipython",
    "version": 3
   },
   "file_extension": ".py",
   "mimetype": "text/x-python",
   "name": "python",
   "nbconvert_exporter": "python",
   "pygments_lexer": "ipython3",
   "version": "3.9.7"
  }
 },
 "nbformat": 4,
 "nbformat_minor": 5
}
