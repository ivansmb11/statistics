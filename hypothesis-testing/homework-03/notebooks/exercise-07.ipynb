{
 "cells": [
  {
   "cell_type": "markdown",
   "id": "fa701b18",
   "metadata": {},
   "source": [
    "# Hyphotesis test"
   ]
  },
  {
   "cell_type": "markdown",
   "id": "53fb8e01",
   "metadata": {},
   "source": [
    "## Exercise 7"
   ]
  },
  {
   "cell_type": "markdown",
   "id": "c68decad",
   "metadata": {},
   "source": [
    "7. Se desea contrastar con un nivel de significancia del 5% la hipótesis de que la talla media de los hombres de 18 o más años de un país es igual a 180. Suponiendo que la desviación típica de las tallas en la población vale 4 contraste dicha hipótesis frente a la alternativa de que es distinta. Los datos constituyen una muestra de n = 15 hombres seleccionados al azar, cuyas alturas son:\n",
    "167 167 168 168 168 169 171 172 173 175 175 175 177 182 195"
   ]
  },
  {
   "cell_type": "code",
   "execution_count": 1,
   "id": "0411101c",
   "metadata": {},
   "outputs": [],
   "source": [
    "import math\n",
    "import matplotlib.pyplot as plt\n",
    "import numpy as np\n",
    "import scipy.stats as stats"
   ]
  },
  {
   "cell_type": "markdown",
   "id": "d7f583fb",
   "metadata": {},
   "source": [
    "### 1. Define the null and alternate hypotheses"
   ]
  },
  {
   "cell_type": "markdown",
   "id": "5a094a8e",
   "metadata": {},
   "source": [
    "H<sub>0</sub>: µ = 180  \n",
    "H<sub>1</sub>: µ ≠ 180"
   ]
  },
  {
   "cell_type": "markdown",
   "id": "8248f118",
   "metadata": {},
   "source": [
    "### 2. Define the level of confidence and significance"
   ]
  },
  {
   "cell_type": "markdown",
   "id": "c434d05a",
   "metadata": {},
   "source": [
    "1 - α = 95%  \n",
    "α = 5%"
   ]
  },
  {
   "cell_type": "markdown",
   "id": "36c14f15",
   "metadata": {},
   "source": [
    "### 3. Select the test statistic"
   ]
  },
  {
   "cell_type": "markdown",
   "id": "e8a2ebd9",
   "metadata": {},
   "source": [
    "$$t = \\frac{\\overline{x}-µ}{\\frac{s}{ \\sqrt{n}}}$$"
   ]
  },
  {
   "cell_type": "markdown",
   "id": "25ed0740",
   "metadata": {},
   "source": [
    "_Where:_  \n",
    "${ Z }$ = test statistic  \n",
    "$\\overline{x}$ = sample average  \n",
    "${µ}$ = average  \n",
    "${s}$ = sample standard deviation  \n",
    "${n}$ = sample size"
   ]
  },
  {
   "cell_type": "markdown",
   "id": "8b4d3c77",
   "metadata": {},
   "source": [
    "### 4. Calculate the test statistic"
   ]
  },
  {
   "cell_type": "markdown",
   "id": "8a7870bd",
   "metadata": {},
   "source": [
    "#### Calculate $\\overline{x}$"
   ]
  },
  {
   "cell_type": "code",
   "execution_count": 3,
   "id": "ec85c6fa",
   "metadata": {},
   "outputs": [],
   "source": [
    "data = [167, 167, 168, 168, 168, 169, 171, 172, 173, 175, 175, 175, 177, 182, 195]"
   ]
  },
  {
   "cell_type": "code",
   "execution_count": 4,
   "id": "f67f24d4",
   "metadata": {},
   "outputs": [
    {
     "data": {
      "text/plain": [
       "173.46666666666667"
      ]
     },
     "execution_count": 4,
     "metadata": {},
     "output_type": "execute_result"
    }
   ],
   "source": [
    "x = sum(data) / len(data)\n",
    "x"
   ]
  },
  {
   "cell_type": "markdown",
   "id": "769a0f5e",
   "metadata": {},
   "source": [
    "$\\overline{x}$ = 173.46"
   ]
  },
  {
   "cell_type": "markdown",
   "id": "9d0dc63a",
   "metadata": {},
   "source": [
    "#### Calculate ${µ}$"
   ]
  },
  {
   "cell_type": "code",
   "execution_count": 5,
   "id": "35268c35",
   "metadata": {},
   "outputs": [
    {
     "data": {
      "text/plain": [
       "180"
      ]
     },
     "execution_count": 5,
     "metadata": {},
     "output_type": "execute_result"
    }
   ],
   "source": [
    "mu = 180\n",
    "mu"
   ]
  },
  {
   "cell_type": "markdown",
   "id": "4ae1dd5a",
   "metadata": {},
   "source": [
    "${µ}$ = 180"
   ]
  },
  {
   "cell_type": "markdown",
   "id": "00f6801e",
   "metadata": {},
   "source": [
    "#### Calculate ${s}$"
   ]
  },
  {
   "cell_type": "code",
   "execution_count": 6,
   "id": "2aa360b3",
   "metadata": {},
   "outputs": [
    {
     "data": {
      "text/plain": [
       "4"
      ]
     },
     "execution_count": 6,
     "metadata": {},
     "output_type": "execute_result"
    }
   ],
   "source": [
    "s = 4\n",
    "s"
   ]
  },
  {
   "cell_type": "markdown",
   "id": "40a39848",
   "metadata": {},
   "source": [
    "${ s }$ = 4"
   ]
  },
  {
   "cell_type": "markdown",
   "id": "2546c7f1",
   "metadata": {},
   "source": [
    "#### Calculate ${n}$"
   ]
  },
  {
   "cell_type": "code",
   "execution_count": 7,
   "id": "caa8f010",
   "metadata": {},
   "outputs": [],
   "source": [
    "n = 15"
   ]
  },
  {
   "cell_type": "markdown",
   "id": "bb3f181b",
   "metadata": {},
   "source": [
    "${ n }$ = 15"
   ]
  },
  {
   "cell_type": "markdown",
   "id": "b29fa67b",
   "metadata": {},
   "source": [
    "#### Calculate ${ t }$"
   ]
  },
  {
   "cell_type": "markdown",
   "id": "0e51686c",
   "metadata": {},
   "source": [
    "$$t = \\frac{173.46-180}{\\frac{4}{ \\sqrt{15}}}$$"
   ]
  },
  {
   "cell_type": "code",
   "execution_count": 8,
   "id": "5c79e851",
   "metadata": {},
   "outputs": [
    {
     "data": {
      "text/plain": [
       "-6.325872798805446"
      ]
     },
     "execution_count": 8,
     "metadata": {},
     "output_type": "execute_result"
    }
   ],
   "source": [
    "tc = (x-mu)/(s/math.sqrt(n))\n",
    "tc"
   ]
  },
  {
   "cell_type": "markdown",
   "id": "5d5af902",
   "metadata": {},
   "source": [
    "${t}$ = -6.33"
   ]
  },
  {
   "cell_type": "markdown",
   "id": "e0ac3b75",
   "metadata": {},
   "source": [
    "### 5. Set decision rule"
   ]
  },
  {
   "cell_type": "markdown",
   "id": "0611bab1",
   "metadata": {},
   "source": [
    "t<sub>c</sub> = -6.33  \n",
    "t<sub>0.05</sub> = ${\\pm}$ 2.14"
   ]
  },
  {
   "cell_type": "code",
   "execution_count": 9,
   "id": "f217dd03",
   "metadata": {},
   "outputs": [],
   "source": [
    "t1 = 2.14\n",
    "t2 = -2.14"
   ]
  },
  {
   "cell_type": "markdown",
   "id": "35e74bb4",
   "metadata": {},
   "source": [
    "### 6. Take decision rule"
   ]
  },
  {
   "cell_type": "code",
   "execution_count": 10,
   "id": "36026040",
   "metadata": {},
   "outputs": [
    {
     "data": {
      "image/png": "[encoded data removed]",
      "text/plain": [
       "<Figure size 432x288 with 1 Axes>"
      ]
     },
     "metadata": {
      "needs_background": "light"
     },
     "output_type": "display_data"
    }
   ],
   "source": [
    "mu = 0\n",
    "variance = 1\n",
    "sigma = math.sqrt(variance)\n",
    "x = np.linspace(mu - 3*sigma, mu + 3*sigma, 100)\n",
    "plt.axvline(x=tc, color=\"blue\")\n",
    "plt.axvline(x=t1, color=\"red\")\n",
    "plt.axvline(x=t2, color=\"red\")\n",
    "plt.axvline(x=mu, color=\"green\")\n",
    "plt.legend([\"tc\", \"t-0.05\", \"t0.05\", \"µ\"])\n",
    "plt.plot(x, stats.norm.pdf(x, mu, sigma))\n",
    "plt.show()"
   ]
  },
  {
   "cell_type": "markdown",
   "id": "0b8bfeec",
   "metadata": {},
   "source": [
    "#### H<sub>0</sub> is rejected\n",
    "#### H<sub>1</sub> is accepted"
   ]
  },
  {
   "cell_type": "markdown",
   "id": "503b62e2",
   "metadata": {},
   "source": [
    "### 7. Draw conclusions"
   ]
  },
  {
   "cell_type": "markdown",
   "id": "47bdb84a",
   "metadata": {},
   "source": [
    "Con un 95% de confianza se puede concluir que la talla media de los hombres de 18 o más años de un país NO es igual a 180."
   ]
  }
 ],
 "metadata": {
  "kernelspec": {
   "display_name": "Python 3 (ipykernel)",
   "language": "python",
   "name": "python3"
  },
  "language_info": {
   "codemirror_mode": {
    "name": "ipython",
    "version": 3
   },
   "file_extension": ".py",
   "mimetype": "text/x-python",
   "name": "python",
   "nbconvert_exporter": "python",
   "pygments_lexer": "ipython3",
   "version": "3.9.7"
  }
 },
 "nbformat": 4,
 "nbformat_minor": 5
}
