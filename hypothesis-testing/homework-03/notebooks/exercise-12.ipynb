{
 "cells": [
  {
   "cell_type": "markdown",
   "id": "fa701b18",
   "metadata": {},
   "source": [
    "# Hyphotesis test"
   ]
  },
  {
   "cell_type": "markdown",
   "id": "53fb8e01",
   "metadata": {},
   "source": [
    "## Exercise 12"
   ]
  },
  {
   "cell_type": "markdown",
   "id": "c68decad",
   "metadata": {},
   "source": [
    "12. Una compañía desea comparar el aumento de peso en bebés que consumen su producto contra los que consumen el competidor. Una muestra de 40 bebés de usan la 1ª marca reveló un aumento de peso de 3.2 kg en los primeros tres meses después de nacidos con 1.2 kg de desviación estándar Una muestra de 55 bebés que usan la 2ª marca indica un aumento de 4.2 kg con desviación estándar de 1.4 kg. Con un nivel de significancia de 0.05 ¿Es posible concluir que los bebés que consumieron el producto de la marca 2 ganaron más peso?"
   ]
  },
  {
   "cell_type": "code",
   "execution_count": 1,
   "id": "0411101c",
   "metadata": {},
   "outputs": [],
   "source": [
    "import math\n",
    "import matplotlib.pyplot as plt\n",
    "import numpy as np\n",
    "import scipy.stats as stats"
   ]
  },
  {
   "cell_type": "markdown",
   "id": "d7f583fb",
   "metadata": {},
   "source": [
    "### 1. Define the null and alternate hypotheses"
   ]
  },
  {
   "cell_type": "markdown",
   "id": "5a094a8e",
   "metadata": {},
   "source": [
    "H<sub>0</sub>: µ<sub>1</sub> ≥ µ<sub>2</sub>  \n",
    "H<sub>1</sub>: µ<sub>1</sub> < µ<sub>2</sub>"
   ]
  },
  {
   "cell_type": "markdown",
   "id": "8248f118",
   "metadata": {},
   "source": [
    "### 2. Define the level of confidence and significance"
   ]
  },
  {
   "cell_type": "markdown",
   "id": "c434d05a",
   "metadata": {},
   "source": [
    "1 - α = 95%  \n",
    "α = 5%"
   ]
  },
  {
   "cell_type": "markdown",
   "id": "36c14f15",
   "metadata": {},
   "source": [
    "### 3. Select the test statistic"
   ]
  },
  {
   "cell_type": "markdown",
   "id": "e8a2ebd9",
   "metadata": {},
   "source": [
    "$$Z = \\frac{\\overline{x}_1-\\overline{x}_2}{\\sqrt{\\frac{s_1^2}{ n_1}+\\frac{s_2^2}{ n_2}}}$$"
   ]
  },
  {
   "cell_type": "markdown",
   "id": "25ed0740",
   "metadata": {},
   "source": [
    "_Where:_  \n",
    "${ Z }$ = test statistic  \n",
    "$\\overline{x}$ = sample average  \n",
    "${s}$ = sample standard deviation  \n",
    "${n}$ = sample size"
   ]
  },
  {
   "cell_type": "markdown",
   "id": "8b4d3c77",
   "metadata": {},
   "source": [
    "### 4. Calculate the test statistic"
   ]
  },
  {
   "cell_type": "markdown",
   "id": "8a7870bd",
   "metadata": {},
   "source": [
    "#### Calculate $\\overline{x}$"
   ]
  },
  {
   "cell_type": "code",
   "execution_count": 2,
   "id": "ec85c6fa",
   "metadata": {},
   "outputs": [],
   "source": [
    "x1 = 3.2"
   ]
  },
  {
   "cell_type": "code",
   "execution_count": 3,
   "id": "4c912165",
   "metadata": {},
   "outputs": [],
   "source": [
    "x2 = 4.2"
   ]
  },
  {
   "cell_type": "markdown",
   "id": "769a0f5e",
   "metadata": {},
   "source": [
    "$\\overline{x}$<sub>1</sub> = 3.2  \n",
    "$\\overline{x}$<sub>2</sub> = 4.2"
   ]
  },
  {
   "cell_type": "markdown",
   "id": "00f6801e",
   "metadata": {},
   "source": [
    "#### Calculate ${s}$"
   ]
  },
  {
   "cell_type": "code",
   "execution_count": 4,
   "id": "c7f380f2",
   "metadata": {},
   "outputs": [],
   "source": [
    "s1 = 1.2"
   ]
  },
  {
   "cell_type": "code",
   "execution_count": 5,
   "id": "a9cf3754",
   "metadata": {},
   "outputs": [],
   "source": [
    "s2 = 1.4"
   ]
  },
  {
   "cell_type": "markdown",
   "id": "40a39848",
   "metadata": {},
   "source": [
    "${ s }$<sub>1</sub> = 1.2  \n",
    "${ s }$<sub>2</sub> = 1.4"
   ]
  },
  {
   "cell_type": "markdown",
   "id": "2546c7f1",
   "metadata": {},
   "source": [
    "#### Calculate ${n}$"
   ]
  },
  {
   "cell_type": "code",
   "execution_count": 6,
   "id": "caa8f010",
   "metadata": {},
   "outputs": [],
   "source": [
    "n1 = 40"
   ]
  },
  {
   "cell_type": "code",
   "execution_count": 7,
   "id": "1273db35",
   "metadata": {},
   "outputs": [],
   "source": [
    "n2 = 55"
   ]
  },
  {
   "cell_type": "markdown",
   "id": "bb3f181b",
   "metadata": {},
   "source": [
    "${ n }$<sub>1</sub> = 40  \n",
    "${ n }$<sub>2</sub> = 55"
   ]
  },
  {
   "cell_type": "markdown",
   "id": "b29fa67b",
   "metadata": {},
   "source": [
    "#### Calculate ${ Z }$"
   ]
  },
  {
   "cell_type": "markdown",
   "id": "0e51686c",
   "metadata": {},
   "source": [
    "$$Z = \\frac{3.2-4.2}{\\sqrt{\\frac{1.2^2}{40}+\\frac{1.4^2}{55}}}$$"
   ]
  },
  {
   "cell_type": "code",
   "execution_count": 8,
   "id": "5c79e851",
   "metadata": {},
   "outputs": [
    {
     "data": {
      "text/plain": [
       "-3.736226821667036"
      ]
     },
     "execution_count": 8,
     "metadata": {},
     "output_type": "execute_result"
    }
   ],
   "source": [
    "Zc = (x1-x2)/(math.sqrt((s1**2/n1)+(s2**2/n2)))\n",
    "Zc"
   ]
  },
  {
   "cell_type": "markdown",
   "id": "5d5af902",
   "metadata": {},
   "source": [
    "${Zc}$ = -3.74"
   ]
  },
  {
   "cell_type": "markdown",
   "id": "e0ac3b75",
   "metadata": {},
   "source": [
    "### 5. Set decision rule"
   ]
  },
  {
   "cell_type": "markdown",
   "id": "751eb6c4",
   "metadata": {},
   "source": [
    "| Confidence | Significance | Left  | Right | Bilateral    |\n",
    "| ---------- | ------------ | ----  | ----- | ------------ |\n",
    "| 90%        | 10%          | -1.28 | 1.28  | ${\\pm}$ 1.64 |\n",
    "| 95%        | 5%           | -1.64 | 1.64  | ${\\pm}$ 1.96 |\n",
    "| 99%        | 1%           | -2.33 | 2.33  | ${\\pm}$ 2.58 |"
   ]
  },
  {
   "cell_type": "markdown",
   "id": "0611bab1",
   "metadata": {},
   "source": [
    "Z<sub>c</sub> = -3.74  \n",
    "Z<sub>0.01</sub> = -1.64"
   ]
  },
  {
   "cell_type": "code",
   "execution_count": 9,
   "id": "f217dd03",
   "metadata": {},
   "outputs": [],
   "source": [
    "Z = -1.64"
   ]
  },
  {
   "cell_type": "markdown",
   "id": "35e74bb4",
   "metadata": {},
   "source": [
    "### 6. Take decision rule"
   ]
  },
  {
   "cell_type": "code",
   "execution_count": 10,
   "id": "36026040",
   "metadata": {},
   "outputs": [
    {
     "data": {
      "image/png": "[encoded data removed]",
      "text/plain": [
       "<Figure size 432x288 with 1 Axes>"
      ]
     },
     "metadata": {
      "needs_background": "light"
     },
     "output_type": "display_data"
    }
   ],
   "source": [
    "mu = 0\n",
    "variance = 1\n",
    "sigma = math.sqrt(variance)\n",
    "x = np.linspace(mu - 3*sigma, mu + 3*sigma, 100)\n",
    "plt.axvline(x=Zc, color=\"blue\")\n",
    "plt.axvline(x=Z, color=\"red\")\n",
    "plt.axvline(x=mu, color=\"green\")\n",
    "plt.legend([\"Zc\", \"Z0.05\", \"µ\"])\n",
    "plt.plot(x, stats.norm.pdf(x, mu, sigma))\n",
    "plt.show()"
   ]
  },
  {
   "cell_type": "markdown",
   "id": "0b8bfeec",
   "metadata": {},
   "source": [
    "#### H<sub>0</sub> is rejected\n",
    "#### H<sub>1</sub> is accepted"
   ]
  },
  {
   "cell_type": "markdown",
   "id": "503b62e2",
   "metadata": {},
   "source": [
    "### 7. Draw conclusions"
   ]
  },
  {
   "cell_type": "markdown",
   "id": "47bdb84a",
   "metadata": {},
   "source": [
    "Con un 99% de confianza se puede concluir que los bebés que consumieron el producto de la marca 2 ganaron más peso."
   ]
  }
 ],
 "metadata": {
  "kernelspec": {
   "display_name": "Python 3 (ipykernel)",
   "language": "python",
   "name": "python3"
  },
  "language_info": {
   "codemirror_mode": {
    "name": "ipython",
    "version": 3
   },
   "file_extension": ".py",
   "mimetype": "text/x-python",
   "name": "python",
   "nbconvert_exporter": "python",
   "pygments_lexer": "ipython3",
   "version": "3.9.7"
  }
 },
 "nbformat": 4,
 "nbformat_minor": 5
}
