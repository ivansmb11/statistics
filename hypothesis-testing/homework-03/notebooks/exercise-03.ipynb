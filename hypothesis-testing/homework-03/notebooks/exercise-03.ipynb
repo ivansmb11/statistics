{
 "cells": [
  {
   "cell_type": "markdown",
   "id": "fa701b18",
   "metadata": {},
   "source": [
    "# Hyphotesis test"
   ]
  },
  {
   "cell_type": "markdown",
   "id": "53fb8e01",
   "metadata": {},
   "source": [
    "## Exercise 3"
   ]
  },
  {
   "cell_type": "markdown",
   "id": "c68decad",
   "metadata": {},
   "source": [
    "3. Un estudio indicó que el 64% de los consumidores de supermercado creen en las marcas propias. El fabricante de una salsa de tomate preguntó a 100 compradores donde 52 prefieren marca propia, probar si el porcentaje de preferencias es menor al 64%, para un 5% de nivel de significancia."
   ]
  },
  {
   "cell_type": "code",
   "execution_count": 1,
   "id": "0411101c",
   "metadata": {},
   "outputs": [],
   "source": [
    "import math\n",
    "import matplotlib.pyplot as plt\n",
    "import numpy as np\n",
    "import scipy.stats as stats"
   ]
  },
  {
   "cell_type": "markdown",
   "id": "d7f583fb",
   "metadata": {},
   "source": [
    "### 1. Define the null and alternate hypotheses"
   ]
  },
  {
   "cell_type": "markdown",
   "id": "5a094a8e",
   "metadata": {},
   "source": [
    "H<sub>0</sub>: ${π}$ ≥ 64%  \n",
    "H<sub>1</sub>: ${π}$ < 64%"
   ]
  },
  {
   "cell_type": "markdown",
   "id": "8248f118",
   "metadata": {},
   "source": [
    "### 2. Define the level of confidence and significance"
   ]
  },
  {
   "cell_type": "markdown",
   "id": "c434d05a",
   "metadata": {},
   "source": [
    "1 - α = 95%  \n",
    "α = 5%"
   ]
  },
  {
   "cell_type": "markdown",
   "id": "36c14f15",
   "metadata": {},
   "source": [
    "### 3. Select the test statistic"
   ]
  },
  {
   "cell_type": "markdown",
   "id": "e8a2ebd9",
   "metadata": {},
   "source": [
    "$$Z = \\frac{p-π}{\\sqrt{\\frac{π(1-π)}{n}}}$$"
   ]
  },
  {
   "cell_type": "markdown",
   "id": "25ed0740",
   "metadata": {},
   "source": [
    "_Where:_  \n",
    "${ Z }$ = test statistic  \n",
    "${p}$ = sample proportion  \n",
    "${π}$ = proportion  \n",
    "${n}$ = sample size"
   ]
  },
  {
   "cell_type": "markdown",
   "id": "8b4d3c77",
   "metadata": {},
   "source": [
    "### 4. Calculate the test statistic"
   ]
  },
  {
   "cell_type": "markdown",
   "id": "769a0f5e",
   "metadata": {},
   "source": [
    "${p}$ = 0.52"
   ]
  },
  {
   "cell_type": "markdown",
   "id": "4ae1dd5a",
   "metadata": {},
   "source": [
    "${π}$ = 0.64"
   ]
  },
  {
   "cell_type": "markdown",
   "id": "bb3f181b",
   "metadata": {},
   "source": [
    "${ n }$ = 100"
   ]
  },
  {
   "cell_type": "code",
   "execution_count": 2,
   "id": "8af01dd6",
   "metadata": {},
   "outputs": [],
   "source": [
    "p = 0.52\n",
    "pi = 0.64\n",
    "n = 100"
   ]
  },
  {
   "cell_type": "markdown",
   "id": "b29fa67b",
   "metadata": {},
   "source": [
    "#### Calculate ${ Z }$"
   ]
  },
  {
   "cell_type": "markdown",
   "id": "0e51686c",
   "metadata": {},
   "source": [
    "$$Z = \\frac{0.52-0.64}{\\sqrt{\\frac{0.64(1-0.64)}{100}}}$$"
   ]
  },
  {
   "cell_type": "code",
   "execution_count": 3,
   "id": "5c79e851",
   "metadata": {},
   "outputs": [
    {
     "data": {
      "text/plain": [
       "-2.5"
      ]
     },
     "execution_count": 3,
     "metadata": {},
     "output_type": "execute_result"
    }
   ],
   "source": [
    "Zc = (p-pi)/math.sqrt((pi*(1-pi))/n)\n",
    "Zc"
   ]
  },
  {
   "cell_type": "markdown",
   "id": "5d5af902",
   "metadata": {},
   "source": [
    "${Z}$ = -2.5"
   ]
  },
  {
   "cell_type": "markdown",
   "id": "e0ac3b75",
   "metadata": {},
   "source": [
    "### 5. Set decision rule"
   ]
  },
  {
   "cell_type": "markdown",
   "id": "fafe64cc",
   "metadata": {},
   "source": [
    "| Confidence | Significance | Left  | Right | Bilateral    |\n",
    "| ---------- | ------------ | ----  | ----- | ------------ |\n",
    "| 90%        | 10%          | -1.28 | 1.28  | ${\\pm}$ 1.64 |\n",
    "| 95%        | 5%           | -1.64 | 1.64  | ${\\pm}$ 1.96 |\n",
    "| 99%        | 1%           | -2.33 | 2.33  | ${\\pm}$ 2.58 |"
   ]
  },
  {
   "cell_type": "markdown",
   "id": "0611bab1",
   "metadata": {},
   "source": [
    "Z<sub>c</sub> = -2.5  \n",
    "Z<sub>0.05</sub> = -1.64"
   ]
  },
  {
   "cell_type": "code",
   "execution_count": 4,
   "id": "5ea0a136",
   "metadata": {},
   "outputs": [],
   "source": [
    "Z = -1.64"
   ]
  },
  {
   "cell_type": "markdown",
   "id": "56327bf3",
   "metadata": {},
   "source": [
    "### 6. Take decision rule"
   ]
  },
  {
   "cell_type": "code",
   "execution_count": 5,
   "id": "36026040",
   "metadata": {},
   "outputs": [
    {
     "data": {
      "image/png": "[encoded data removed]",
      "text/plain": [
       "<Figure size 432x288 with 1 Axes>"
      ]
     },
     "metadata": {
      "needs_background": "light"
     },
     "output_type": "display_data"
    }
   ],
   "source": [
    "mu = 0\n",
    "variance = 1\n",
    "sigma = math.sqrt(variance)\n",
    "x = np.linspace(mu - 3*sigma, mu + 3*sigma, 100)\n",
    "plt.axvline(x=Zc, color=\"blue\")\n",
    "plt.axvline(x=Z, color=\"red\")\n",
    "plt.axvline(x=mu, color=\"green\")\n",
    "plt.legend([\"Zc\", \"Z0.05\", \"µ\"])\n",
    "plt.plot(x, stats.norm.pdf(x, mu, sigma))\n",
    "plt.show()"
   ]
  },
  {
   "cell_type": "markdown",
   "id": "0b8bfeec",
   "metadata": {},
   "source": [
    "#### H<sub>0</sub> is rejected\n",
    "#### H<sub>1</sub> is accepted"
   ]
  },
  {
   "cell_type": "markdown",
   "id": "503b62e2",
   "metadata": {},
   "source": [
    "### 7. Draw conclusions"
   ]
  },
  {
   "cell_type": "markdown",
   "id": "47bdb84a",
   "metadata": {},
   "source": [
    "Con un 95% de confianza se puede concluir que la proporción de los consumidores de supermercado que creen en las marcas propias es menor al 64%."
   ]
  }
 ],
 "metadata": {
  "kernelspec": {
   "display_name": "Python 3 (ipykernel)",
   "language": "python",
   "name": "python3"
  },
  "language_info": {
   "codemirror_mode": {
    "name": "ipython",
    "version": 3
   },
   "file_extension": ".py",
   "mimetype": "text/x-python",
   "name": "python",
   "nbconvert_exporter": "python",
   "pygments_lexer": "ipython3",
   "version": "3.9.7"
  }
 },
 "nbformat": 4,
 "nbformat_minor": 5
}
