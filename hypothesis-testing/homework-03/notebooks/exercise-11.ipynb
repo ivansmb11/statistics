{
 "cells": [
  {
   "cell_type": "markdown",
   "id": "fa701b18",
   "metadata": {},
   "source": [
    "# Hyphotesis test"
   ]
  },
  {
   "cell_type": "markdown",
   "id": "53fb8e01",
   "metadata": {},
   "source": [
    "## Exercise 11"
   ]
  },
  {
   "cell_type": "markdown",
   "id": "c68decad",
   "metadata": {},
   "source": [
    "11. El artículo “Effect of Welding Procedure on Flux Cored Steel Wire Deposits” (N. Ramini de Rissone, I. de S. Bott y cols., en Science and Technology of Welding and Joining, 2003:113122) compara las propiedades de soldaduras hechas con dióxido de carbono como gas de protección con respecto a las de soldaduras hechas mediante una mezcla de argón y dióxido de carbono. Una propiedad estudiada era el diámetro de inclusiones, que son partículas incrustadas en la soldadura. Una muestra de 544 inclusiones en soldaduras hechas al usar argón como protección tiene un diámetro promedio de 0.37 mm, con desviación estándar de 0.25 mm. Una muestra de 581 inclusiones en soldaduras hechas al emplear dióxido de carbono como protección tiene diámetro promedio de 0.40 mm, con desviación estándar de 0.26 mm. (Las desviaciones estándar se calcularon con una gráfica.) ¿Se puede concluir que las medias de los diámetros de las inclusiones son diferentes entre los dos gases de protección?"
   ]
  },
  {
   "cell_type": "code",
   "execution_count": 1,
   "id": "0411101c",
   "metadata": {},
   "outputs": [],
   "source": [
    "import math\n",
    "import matplotlib.pyplot as plt\n",
    "import numpy as np\n",
    "import scipy.stats as stats"
   ]
  },
  {
   "cell_type": "markdown",
   "id": "d7f583fb",
   "metadata": {},
   "source": [
    "### 1. Define the null and alternate hypotheses"
   ]
  },
  {
   "cell_type": "markdown",
   "id": "5a094a8e",
   "metadata": {},
   "source": [
    "H<sub>0</sub>: µ<sub>1</sub> = µ<sub>2</sub>  \n",
    "H<sub>1</sub>: µ<sub>1</sub> ≠ µ<sub>2</sub>"
   ]
  },
  {
   "cell_type": "markdown",
   "id": "8248f118",
   "metadata": {},
   "source": [
    "### 2. Define the level of confidence and significance"
   ]
  },
  {
   "cell_type": "markdown",
   "id": "c434d05a",
   "metadata": {},
   "source": [
    "1 - α = 99%  \n",
    "α = 1%"
   ]
  },
  {
   "cell_type": "markdown",
   "id": "36c14f15",
   "metadata": {},
   "source": [
    "### 3. Select the test statistic"
   ]
  },
  {
   "cell_type": "markdown",
   "id": "e8a2ebd9",
   "metadata": {},
   "source": [
    "$$Z = \\frac{\\overline{x}_1-\\overline{x}_2}{\\sqrt{\\frac{s_1^2}{ n_1}+\\frac{s_2^2}{ n_2}}}$$"
   ]
  },
  {
   "cell_type": "markdown",
   "id": "25ed0740",
   "metadata": {},
   "source": [
    "_Where:_  \n",
    "${ Z }$ = test statistic  \n",
    "$\\overline{x}$ = sample average  \n",
    "${s}$ = sample standard deviation  \n",
    "${n}$ = sample size"
   ]
  },
  {
   "cell_type": "markdown",
   "id": "8b4d3c77",
   "metadata": {},
   "source": [
    "### 4. Calculate the test statistic"
   ]
  },
  {
   "cell_type": "markdown",
   "id": "8a7870bd",
   "metadata": {},
   "source": [
    "#### Calculate $\\overline{x}$"
   ]
  },
  {
   "cell_type": "code",
   "execution_count": 2,
   "id": "ec85c6fa",
   "metadata": {},
   "outputs": [],
   "source": [
    "x1 = 0.37"
   ]
  },
  {
   "cell_type": "code",
   "execution_count": 3,
   "id": "4c912165",
   "metadata": {},
   "outputs": [],
   "source": [
    "x2 = 0.40"
   ]
  },
  {
   "cell_type": "markdown",
   "id": "769a0f5e",
   "metadata": {},
   "source": [
    "$\\overline{x}$<sub>1</sub> = 0.37  \n",
    "$\\overline{x}$<sub>2</sub> = 0.40"
   ]
  },
  {
   "cell_type": "markdown",
   "id": "00f6801e",
   "metadata": {},
   "source": [
    "#### Calculate ${s}$"
   ]
  },
  {
   "cell_type": "code",
   "execution_count": 4,
   "id": "c7f380f2",
   "metadata": {},
   "outputs": [],
   "source": [
    "s1 = 0.25"
   ]
  },
  {
   "cell_type": "code",
   "execution_count": 5,
   "id": "a9cf3754",
   "metadata": {},
   "outputs": [],
   "source": [
    "s2 = 0.26"
   ]
  },
  {
   "cell_type": "markdown",
   "id": "40a39848",
   "metadata": {},
   "source": [
    "${ s }$<sub>1</sub> = 0.25  \n",
    "${ s }$<sub>2</sub> = 0.26"
   ]
  },
  {
   "cell_type": "markdown",
   "id": "2546c7f1",
   "metadata": {},
   "source": [
    "#### Calculate ${n}$"
   ]
  },
  {
   "cell_type": "code",
   "execution_count": 6,
   "id": "caa8f010",
   "metadata": {},
   "outputs": [],
   "source": [
    "n1 = 544"
   ]
  },
  {
   "cell_type": "code",
   "execution_count": 7,
   "id": "1273db35",
   "metadata": {},
   "outputs": [],
   "source": [
    "n2 = 581"
   ]
  },
  {
   "cell_type": "markdown",
   "id": "bb3f181b",
   "metadata": {},
   "source": [
    "${ n }$<sub>1</sub> = 544  \n",
    "${ n }$<sub>2</sub> = 581"
   ]
  },
  {
   "cell_type": "markdown",
   "id": "b29fa67b",
   "metadata": {},
   "source": [
    "#### Calculate ${ Z }$"
   ]
  },
  {
   "cell_type": "markdown",
   "id": "0e51686c",
   "metadata": {},
   "source": [
    "$$Z = \\frac{0.37-0.40}{\\sqrt{\\frac{0.25^2}{544}+\\frac{0.26^2}{581}}}$$"
   ]
  },
  {
   "cell_type": "code",
   "execution_count": 9,
   "id": "5c79e851",
   "metadata": {},
   "outputs": [
    {
     "data": {
      "text/plain": [
       "-1.9728269861966932"
      ]
     },
     "execution_count": 9,
     "metadata": {},
     "output_type": "execute_result"
    }
   ],
   "source": [
    "Zc = (x1-x2)/(math.sqrt((s1**2/n1)+(s2**2/n2)))\n",
    "Zc"
   ]
  },
  {
   "cell_type": "markdown",
   "id": "5d5af902",
   "metadata": {},
   "source": [
    "${Zc}$ = -1.97"
   ]
  },
  {
   "cell_type": "markdown",
   "id": "e0ac3b75",
   "metadata": {},
   "source": [
    "### 5. Set decision rule"
   ]
  },
  {
   "cell_type": "markdown",
   "id": "751eb6c4",
   "metadata": {},
   "source": [
    "| Confidence | Significance | Left  | Right | Bilateral    |\n",
    "| ---------- | ------------ | ----  | ----- | ------------ |\n",
    "| 90%        | 10%          | -1.28 | 1.28  | ${\\pm}$ 1.64 |\n",
    "| 95%        | 5%           | -1.64 | 1.64  | ${\\pm}$ 1.96 |\n",
    "| 99%        | 1%           | -2.33 | 2.33  | ${\\pm}$ 2.58 |"
   ]
  },
  {
   "cell_type": "markdown",
   "id": "0611bab1",
   "metadata": {},
   "source": [
    "Z<sub>c</sub> = -1.97  \n",
    "Z<sub>0.01</sub> = ${\\pm}$ 2.58"
   ]
  },
  {
   "cell_type": "code",
   "execution_count": 11,
   "id": "f217dd03",
   "metadata": {},
   "outputs": [],
   "source": [
    "Z1 = 2.58\n",
    "Z2 = -2.58"
   ]
  },
  {
   "cell_type": "markdown",
   "id": "35e74bb4",
   "metadata": {},
   "source": [
    "### 6. Take decision rule"
   ]
  },
  {
   "cell_type": "code",
   "execution_count": 12,
   "id": "36026040",
   "metadata": {},
   "outputs": [
    {
     "data": {
      "image/png": "[encoded data removed]",
      "text/plain": [
       "<Figure size 432x288 with 1 Axes>"
      ]
     },
     "metadata": {
      "needs_background": "light"
     },
     "output_type": "display_data"
    }
   ],
   "source": [
    "mu = 0\n",
    "variance = 1\n",
    "sigma = math.sqrt(variance)\n",
    "x = np.linspace(mu - 3*sigma, mu + 3*sigma, 100)\n",
    "plt.axvline(x=Zc, color=\"blue\")\n",
    "plt.axvline(x=Z1, color=\"red\")\n",
    "plt.axvline(x=Z2, color=\"red\")\n",
    "plt.axvline(x=mu, color=\"green\")\n",
    "plt.legend([\"Zc\", \"Z-0.01\", \"Z0.01\", \"µ\"])\n",
    "plt.plot(x, stats.norm.pdf(x, mu, sigma))\n",
    "plt.show()"
   ]
  },
  {
   "cell_type": "markdown",
   "id": "0b8bfeec",
   "metadata": {},
   "source": [
    "#### H<sub>0</sub> is accepted\n",
    "#### H<sub>1</sub> is rejected"
   ]
  },
  {
   "cell_type": "markdown",
   "id": "503b62e2",
   "metadata": {},
   "source": [
    "### 7. Draw conclusions"
   ]
  },
  {
   "cell_type": "markdown",
   "id": "47bdb84a",
   "metadata": {},
   "source": [
    "Con un 99% de confianza se puede concluir que las medias de los diámetros de las inclusiones son IGUALES entre los dos gases de protección"
   ]
  }
 ],
 "metadata": {
  "kernelspec": {
   "display_name": "Python 3 (ipykernel)",
   "language": "python",
   "name": "python3"
  },
  "language_info": {
   "codemirror_mode": {
    "name": "ipython",
    "version": 3
   },
   "file_extension": ".py",
   "mimetype": "text/x-python",
   "name": "python",
   "nbconvert_exporter": "python",
   "pygments_lexer": "ipython3",
   "version": "3.9.7"
  }
 },
 "nbformat": 4,
 "nbformat_minor": 5
}
