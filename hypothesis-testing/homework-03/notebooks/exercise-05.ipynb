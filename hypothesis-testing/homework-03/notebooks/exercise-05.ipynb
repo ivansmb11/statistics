{
 "cells": [
  {
   "cell_type": "markdown",
   "id": "fa701b18",
   "metadata": {},
   "source": [
    "# Hyphotesis test"
   ]
  },
  {
   "cell_type": "markdown",
   "id": "53fb8e01",
   "metadata": {},
   "source": [
    "## Exercise 5"
   ]
  },
  {
   "cell_type": "markdown",
   "id": "c68decad",
   "metadata": {},
   "source": [
    "5. Las rentas diarias de automóviles en dólares de ocho ciudades se muestra a continuación:"
   ]
  },
  {
   "cell_type": "markdown",
   "id": "6e71e77b",
   "metadata": {},
   "source": [
    "| Ciudad     | A  | B  | C  | D  | E  | F  | G  | H  |\n",
    "| ---------- | -  | -  | -  | -  | -  | -  | -  | -  |\n",
    "| Renta      | 47 | 50 | 53 | 45 | 40 | 43 | 39 | 37 |\n"
   ]
  },
  {
   "cell_type": "markdown",
   "id": "715c868c",
   "metadata": {},
   "source": [
    "¿A un 5% se comprueba la hipótesis de que la media de la población es de 45 dólares?"
   ]
  },
  {
   "cell_type": "code",
   "execution_count": 3,
   "id": "0411101c",
   "metadata": {},
   "outputs": [],
   "source": [
    "import math\n",
    "import matplotlib.pyplot as plt\n",
    "import numpy as np\n",
    "import scipy.stats as stats"
   ]
  },
  {
   "cell_type": "markdown",
   "id": "d7f583fb",
   "metadata": {},
   "source": [
    "### 1. Define the null and alternate hypotheses"
   ]
  },
  {
   "cell_type": "markdown",
   "id": "5a094a8e",
   "metadata": {},
   "source": [
    "H<sub>0</sub>: µ = 45  \n",
    "H<sub>1</sub>: µ ≠ 45"
   ]
  },
  {
   "cell_type": "markdown",
   "id": "8248f118",
   "metadata": {},
   "source": [
    "### 2. Define the level of confidence and significance"
   ]
  },
  {
   "cell_type": "markdown",
   "id": "c434d05a",
   "metadata": {},
   "source": [
    "1 - α = 95%  \n",
    "α = 5%"
   ]
  },
  {
   "cell_type": "markdown",
   "id": "36c14f15",
   "metadata": {},
   "source": [
    "### 3. Select the test statistic"
   ]
  },
  {
   "cell_type": "markdown",
   "id": "e8a2ebd9",
   "metadata": {},
   "source": [
    "$$t = \\frac{\\overline{x}-µ}{\\frac{s}{ \\sqrt{n}}}$$"
   ]
  },
  {
   "cell_type": "markdown",
   "id": "25ed0740",
   "metadata": {},
   "source": [
    "_Where:_  \n",
    "${t}$ = test statistic  \n",
    "$\\overline{x}$ = sample average  \n",
    "${µ}$ = average  \n",
    "${s}$ = sample standard deviation  \n",
    "${n}$ = sample size"
   ]
  },
  {
   "cell_type": "markdown",
   "id": "8b4d3c77",
   "metadata": {},
   "source": [
    "### 4. Calculate the test statistic"
   ]
  },
  {
   "cell_type": "markdown",
   "id": "8a7870bd",
   "metadata": {},
   "source": [
    "#### Calculate $\\overline{x}$"
   ]
  },
  {
   "cell_type": "code",
   "execution_count": 4,
   "id": "02ed635b",
   "metadata": {},
   "outputs": [],
   "source": [
    "data = [47, 50, 53, 45, 40, 43, 39, 37]"
   ]
  },
  {
   "cell_type": "code",
   "execution_count": 5,
   "id": "ec85c6fa",
   "metadata": {},
   "outputs": [
    {
     "data": {
      "text/plain": [
       "44.25"
      ]
     },
     "execution_count": 5,
     "metadata": {},
     "output_type": "execute_result"
    }
   ],
   "source": [
    "x = sum(data) / len(data)\n",
    "x"
   ]
  },
  {
   "cell_type": "markdown",
   "id": "769a0f5e",
   "metadata": {},
   "source": [
    "$\\overline{x}$ = 44.25"
   ]
  },
  {
   "cell_type": "markdown",
   "id": "9d0dc63a",
   "metadata": {},
   "source": [
    "#### Calculate ${µ}$"
   ]
  },
  {
   "cell_type": "code",
   "execution_count": 6,
   "id": "35268c35",
   "metadata": {},
   "outputs": [
    {
     "data": {
      "text/plain": [
       "45"
      ]
     },
     "execution_count": 6,
     "metadata": {},
     "output_type": "execute_result"
    }
   ],
   "source": [
    "mu = 45\n",
    "mu"
   ]
  },
  {
   "cell_type": "markdown",
   "id": "4ae1dd5a",
   "metadata": {},
   "source": [
    "${µ}$ = 45"
   ]
  },
  {
   "cell_type": "markdown",
   "id": "00f6801e",
   "metadata": {},
   "source": [
    "#### Calculate ${s}$"
   ]
  },
  {
   "cell_type": "markdown",
   "id": "c1fed20a",
   "metadata": {},
   "source": [
    "$$s = \\sqrt{ \\frac{\\Sigma|x-µ|^{2}}{N} } $$"
   ]
  },
  {
   "cell_type": "code",
   "execution_count": 7,
   "id": "4543ceb3",
   "metadata": {},
   "outputs": [
    {
     "data": {
      "text/plain": [
       "222"
      ]
     },
     "execution_count": 7,
     "metadata": {},
     "output_type": "execute_result"
    }
   ],
   "source": [
    "avgDistance = []\n",
    "for i in data:\n",
    "  avgDistance.append(abs(i-mu)**2)\n",
    "sum(avgDistance)"
   ]
  },
  {
   "cell_type": "markdown",
   "id": "d7f18ecf",
   "metadata": {},
   "source": [
    "$ \\Sigma|x-µ|^{2} $ = 222"
   ]
  },
  {
   "cell_type": "code",
   "execution_count": 8,
   "id": "8019e74b",
   "metadata": {},
   "outputs": [
    {
     "data": {
      "text/plain": [
       "8"
      ]
     },
     "execution_count": 8,
     "metadata": {},
     "output_type": "execute_result"
    }
   ],
   "source": [
    "n = len(data)\n",
    "n"
   ]
  },
  {
   "cell_type": "markdown",
   "id": "a9fd9588",
   "metadata": {},
   "source": [
    "${N}$ = 8"
   ]
  },
  {
   "cell_type": "markdown",
   "id": "1529fb58",
   "metadata": {},
   "source": [
    "$$ s = \\sqrt{ \\frac{222}{8} } $$"
   ]
  },
  {
   "cell_type": "code",
   "execution_count": 9,
   "id": "2aa360b3",
   "metadata": {},
   "outputs": [
    {
     "data": {
      "text/plain": [
       "5.267826876426369"
      ]
     },
     "execution_count": 9,
     "metadata": {},
     "output_type": "execute_result"
    }
   ],
   "source": [
    "s = math.sqrt(sum(avgDistance)/n)\n",
    "s"
   ]
  },
  {
   "cell_type": "markdown",
   "id": "40a39848",
   "metadata": {},
   "source": [
    "${ s }$ = 5.27"
   ]
  },
  {
   "cell_type": "markdown",
   "id": "2546c7f1",
   "metadata": {},
   "source": [
    "#### Calculate ${n}$"
   ]
  },
  {
   "cell_type": "code",
   "execution_count": 10,
   "id": "caa8f010",
   "metadata": {},
   "outputs": [
    {
     "data": {
      "text/plain": [
       "8"
      ]
     },
     "execution_count": 10,
     "metadata": {},
     "output_type": "execute_result"
    }
   ],
   "source": [
    "n"
   ]
  },
  {
   "cell_type": "markdown",
   "id": "bb3f181b",
   "metadata": {},
   "source": [
    "${ n }$ = 8"
   ]
  },
  {
   "cell_type": "markdown",
   "id": "b29fa67b",
   "metadata": {},
   "source": [
    "#### Calculate ${ t }$"
   ]
  },
  {
   "cell_type": "markdown",
   "id": "0e51686c",
   "metadata": {},
   "source": [
    "$$t = \\frac{44.25-45}{\\frac{5.27}{ \\sqrt{8}}}$$"
   ]
  },
  {
   "cell_type": "code",
   "execution_count": 11,
   "id": "5c79e851",
   "metadata": {},
   "outputs": [
    {
     "data": {
      "text/plain": [
       "-0.40269363312841466"
      ]
     },
     "execution_count": 11,
     "metadata": {},
     "output_type": "execute_result"
    }
   ],
   "source": [
    "tc = (x-mu)/(s/math.sqrt(n))\n",
    "tc"
   ]
  },
  {
   "cell_type": "markdown",
   "id": "5d5af902",
   "metadata": {},
   "source": [
    "${t}$ = -0.40"
   ]
  },
  {
   "cell_type": "markdown",
   "id": "e0ac3b75",
   "metadata": {},
   "source": [
    "### 5. Set decision rule"
   ]
  },
  {
   "cell_type": "markdown",
   "id": "0611bab1",
   "metadata": {},
   "source": [
    "t<sub>c</sub> = -0.40  \n",
    "t<sub>0.05</sub> = ${\\pm}$ 2.365"
   ]
  },
  {
   "cell_type": "code",
   "execution_count": 12,
   "id": "f217dd03",
   "metadata": {},
   "outputs": [],
   "source": [
    "t1 = 2.365\n",
    "t2 = -2.365"
   ]
  },
  {
   "cell_type": "markdown",
   "id": "35e74bb4",
   "metadata": {},
   "source": [
    "### 6. Take decision rule"
   ]
  },
  {
   "cell_type": "code",
   "execution_count": 13,
   "id": "36026040",
   "metadata": {},
   "outputs": [
    {
     "data": {
      "image/png": "[encoded data removed]",
      "text/plain": [
       "<Figure size 432x288 with 1 Axes>"
      ]
     },
     "metadata": {
      "needs_background": "light"
     },
     "output_type": "display_data"
    }
   ],
   "source": [
    "mu = 0\n",
    "variance = 1\n",
    "sigma = math.sqrt(variance)\n",
    "x = np.linspace(mu - 3*sigma, mu + 3*sigma, 100)\n",
    "plt.axvline(x=tc, color=\"blue\")\n",
    "plt.axvline(x=t1, color=\"red\")\n",
    "plt.axvline(x=t2, color=\"red\")\n",
    "plt.axvline(x=mu, color=\"green\")\n",
    "plt.legend([\"tc\", \"t-0.05\", \"t0.05\", \"µ\"])\n",
    "plt.plot(x, stats.norm.pdf(x, mu, sigma))\n",
    "plt.show()"
   ]
  },
  {
   "cell_type": "markdown",
   "id": "0b8bfeec",
   "metadata": {},
   "source": [
    "#### H<sub>0</sub> is accepted\n",
    "#### H<sub>1</sub> is rejected"
   ]
  },
  {
   "cell_type": "markdown",
   "id": "503b62e2",
   "metadata": {},
   "source": [
    "### 7. Draw conclusions"
   ]
  },
  {
   "cell_type": "markdown",
   "id": "47bdb84a",
   "metadata": {},
   "source": [
    "Con un 95% de confianza se puede concluir que la media de la población es de 45 dólares."
   ]
  }
 ],
 "metadata": {
  "kernelspec": {
   "display_name": "Python 3 (ipykernel)",
   "language": "python",
   "name": "python3"
  },
  "language_info": {
   "codemirror_mode": {
    "name": "ipython",
    "version": 3
   },
   "file_extension": ".py",
   "mimetype": "text/x-python",
   "name": "python",
   "nbconvert_exporter": "python",
   "pygments_lexer": "ipython3",
   "version": "3.9.7"
  }
 },
 "nbformat": 4,
 "nbformat_minor": 5
}
